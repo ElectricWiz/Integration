{
 "cells": [
  {
   "cell_type": "code",
   "execution_count": 6,
   "id": "a0794655-d73e-4d86-8dfd-eae0811a010d",
   "metadata": {},
   "outputs": [],
   "source": [
    "import pandas as pd\n",
    "import numpy as np\n",
    "import matplotlib.pyplot as plt\n",
    "import seaborn as sns\n",
    "\n",
    "sns.set_theme()\n",
    "sns.set_palette(\"rocket\")"
   ]
  },
  {
   "cell_type": "code",
   "execution_count": 7,
   "id": "768f59c8-98f7-4e04-83e3-90631202e903",
   "metadata": {},
   "outputs": [],
   "source": [
    "def rieman1n(f, interv, partitionNorm = .00001):\n",
    "    n = round((interv[1]-interv[0])/partitionNorm)\n",
    "    X = np.arange(interv[0], interv[1], partitionNorm)\n",
    "    summ = 0\n",
    "    \n",
    "    for i in range(0, len(X) - 1):\n",
    "        summ += f((X[i] + X[i+1])/2)*partitionNorm\n",
    "        \n",
    "    return summ"
   ]
  },
  {
   "cell_type": "code",
   "execution_count": 10,
   "id": "fb7bc4e4-27f6-4e11-a275-5210792b2709",
   "metadata": {},
   "outputs": [],
   "source": [
    "f = lambda x: 1"
   ]
  },
  {
   "cell_type": "code",
   "execution_count": 11,
   "id": "14510bd7-0cf4-41c8-a14d-e2cddd10ff75",
   "metadata": {},
   "outputs": [
    {
     "data": {
      "text/plain": [
       "0.9998999999999062"
      ]
     },
     "execution_count": 11,
     "metadata": {},
     "output_type": "execute_result"
    }
   ],
   "source": [
    "rieman1n(f, (0,1))"
   ]
  },
  {
   "cell_type": "code",
   "execution_count": null,
   "id": "1dcf2014-6a4a-474c-868c-2d063d6b4577",
   "metadata": {},
   "outputs": [],
   "source": []
  }
 ],
 "metadata": {
  "kernelspec": {
   "display_name": "Python 3 (ipykernel)",
   "language": "python",
   "name": "python3"
  },
  "language_info": {
   "codemirror_mode": {
    "name": "ipython",
    "version": 3
   },
   "file_extension": ".py",
   "mimetype": "text/x-python",
   "name": "python",
   "nbconvert_exporter": "python",
   "pygments_lexer": "ipython3",
   "version": "3.9.12"
  }
 },
 "nbformat": 4,
 "nbformat_minor": 5
}
